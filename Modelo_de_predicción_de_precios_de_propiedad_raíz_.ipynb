{
  "nbformat": 4,
  "nbformat_minor": 0,
  "metadata": {
    "colab": {
      "name": "Modelo de predicción de precios de propiedad raíz .ipynb",
      "provenance": [],
      "authorship_tag": "ABX9TyOe+Gw7jHMI1Y5ncp4PqTlM",
      "include_colab_link": true
    },
    "kernelspec": {
      "name": "python3",
      "display_name": "Python 3"
    }
  },
  "cells": [
    {
      "cell_type": "markdown",
      "metadata": {
        "id": "view-in-github",
        "colab_type": "text"
      },
      "source": [
        "<a href=\"https://colab.research.google.com/github/Lucho90/Estudio/blob/main/Modelo_de_predicci%C3%B3n_de_precios_de_propiedad_ra%C3%ADz_.ipynb\" target=\"_parent\"><img src=\"https://colab.research.google.com/assets/colab-badge.svg\" alt=\"Open In Colab\"/></a>"
      ]
    },
    {
      "cell_type": "markdown",
      "metadata": {
        "id": "imZ3PwmgllnQ"
      },
      "source": [
        "#Modelo de predicción de precios de propiedad raíz "
      ]
    },
    {
      "cell_type": "markdown",
      "metadata": {
        "id": "1Bgfj7_Wl6bz"
      },
      "source": [
        "El siguiente modelo es un ejercicio en donde se usa un modelo de machine learning para predecir el precio de propiedades del dataset de la inmoviliaria argentina Properati. "
      ]
    },
    {
      "cell_type": "code",
      "metadata": {
        "id": "NdhYyP6BmQ_E"
      },
      "source": [
        "import pandas as pd\n",
        "import numpy as np\n",
        "import matplotlib.pyplot as plt\n",
        "import seaborn as sns"
      ],
      "execution_count": 1,
      "outputs": []
    },
    {
      "cell_type": "markdown",
      "metadata": {
        "id": "1703TRkYl01j"
      },
      "source": [
        "##Exploración de datos"
      ]
    },
    {
      "cell_type": "code",
      "metadata": {
        "colab": {
          "base_uri": "https://localhost:8080/",
          "height": 503
        },
        "id": "l4PQ5uu6llcT",
        "outputId": "c8168119-4d7e-4ca5-836a-e33e33c72006"
      },
      "source": [
        "data= pd.read_csv('DS_Proyecto_01_Datos_Properati.csv')\n",
        "data.head()"
      ],
      "execution_count": 2,
      "outputs": [
        {
          "output_type": "execute_result",
          "data": {
            "text/html": [
              "<div>\n",
              "<style scoped>\n",
              "    .dataframe tbody tr th:only-of-type {\n",
              "        vertical-align: middle;\n",
              "    }\n",
              "\n",
              "    .dataframe tbody tr th {\n",
              "        vertical-align: top;\n",
              "    }\n",
              "\n",
              "    .dataframe thead th {\n",
              "        text-align: right;\n",
              "    }\n",
              "</style>\n",
              "<table border=\"1\" class=\"dataframe\">\n",
              "  <thead>\n",
              "    <tr style=\"text-align: right;\">\n",
              "      <th></th>\n",
              "      <th>start_date</th>\n",
              "      <th>end_date</th>\n",
              "      <th>created_on</th>\n",
              "      <th>lat</th>\n",
              "      <th>lon</th>\n",
              "      <th>l1</th>\n",
              "      <th>l2</th>\n",
              "      <th>l3</th>\n",
              "      <th>rooms</th>\n",
              "      <th>bedrooms</th>\n",
              "      <th>bathrooms</th>\n",
              "      <th>surface_total</th>\n",
              "      <th>surface_covered</th>\n",
              "      <th>price</th>\n",
              "      <th>currency</th>\n",
              "      <th>title</th>\n",
              "      <th>description</th>\n",
              "      <th>property_type</th>\n",
              "      <th>operation_type</th>\n",
              "    </tr>\n",
              "  </thead>\n",
              "  <tbody>\n",
              "    <tr>\n",
              "      <th>0</th>\n",
              "      <td>2019-10-17</td>\n",
              "      <td>2019-12-23</td>\n",
              "      <td>2019-10-17</td>\n",
              "      <td>-34.605880</td>\n",
              "      <td>-58.384949</td>\n",
              "      <td>Argentina</td>\n",
              "      <td>Capital Federal</td>\n",
              "      <td>San Cristobal</td>\n",
              "      <td>7.0</td>\n",
              "      <td>7.0</td>\n",
              "      <td>2.0</td>\n",
              "      <td>140.0</td>\n",
              "      <td>140.0</td>\n",
              "      <td>153000.0</td>\n",
              "      <td>USD</td>\n",
              "      <td>***Venta semipiso centro, ideal hostel*****</td>\n",
              "      <td>DESCRIPCION DE LA PROPIEDAD: Departamento de 1...</td>\n",
              "      <td>Departamento</td>\n",
              "      <td>Venta</td>\n",
              "    </tr>\n",
              "    <tr>\n",
              "      <th>1</th>\n",
              "      <td>2019-10-17</td>\n",
              "      <td>2019-11-21</td>\n",
              "      <td>2019-10-17</td>\n",
              "      <td>-34.624056</td>\n",
              "      <td>-58.412110</td>\n",
              "      <td>Argentina</td>\n",
              "      <td>Capital Federal</td>\n",
              "      <td>Boedo</td>\n",
              "      <td>2.0</td>\n",
              "      <td>1.0</td>\n",
              "      <td>2.0</td>\n",
              "      <td>70.0</td>\n",
              "      <td>58.0</td>\n",
              "      <td>159000.0</td>\n",
              "      <td>USD</td>\n",
              "      <td>Espectacular PH reciclado en Boedo sin expensas.</td>\n",
              "      <td>PH reciclado en Boedo a una cuadra de la plaz...</td>\n",
              "      <td>PH</td>\n",
              "      <td>Venta</td>\n",
              "    </tr>\n",
              "    <tr>\n",
              "      <th>2</th>\n",
              "      <td>2019-10-17</td>\n",
              "      <td>2019-11-01</td>\n",
              "      <td>2019-10-17</td>\n",
              "      <td>-34.593569</td>\n",
              "      <td>-58.427474</td>\n",
              "      <td>Argentina</td>\n",
              "      <td>Capital Federal</td>\n",
              "      <td>Palermo</td>\n",
              "      <td>2.0</td>\n",
              "      <td>1.0</td>\n",
              "      <td>1.0</td>\n",
              "      <td>45.0</td>\n",
              "      <td>45.0</td>\n",
              "      <td>125000.0</td>\n",
              "      <td>USD</td>\n",
              "      <td>Depto.tipo casa de 2 ambientes en Venta en Pal...</td>\n",
              "      <td>2 ambienets amplio , excelente estado , patio ...</td>\n",
              "      <td>PH</td>\n",
              "      <td>Venta</td>\n",
              "    </tr>\n",
              "    <tr>\n",
              "      <th>3</th>\n",
              "      <td>2019-10-17</td>\n",
              "      <td>2019-12-23</td>\n",
              "      <td>2019-10-17</td>\n",
              "      <td>-34.581294</td>\n",
              "      <td>-58.436754</td>\n",
              "      <td>Argentina</td>\n",
              "      <td>Capital Federal</td>\n",
              "      <td>Palermo</td>\n",
              "      <td>2.0</td>\n",
              "      <td>1.0</td>\n",
              "      <td>1.0</td>\n",
              "      <td>85.0</td>\n",
              "      <td>50.0</td>\n",
              "      <td>295000.0</td>\n",
              "      <td>USD</td>\n",
              "      <td>COSTA RICA 5800 / PALERMO HOLLYWOOD / VENTA PH...</td>\n",
              "      <td>HERMOSO PH EN PALERMO!!!2 AMBIENTES TOTALMENTE...</td>\n",
              "      <td>PH</td>\n",
              "      <td>Venta</td>\n",
              "    </tr>\n",
              "    <tr>\n",
              "      <th>4</th>\n",
              "      <td>2019-10-17</td>\n",
              "      <td>2020-03-11</td>\n",
              "      <td>2019-10-17</td>\n",
              "      <td>-34.914194</td>\n",
              "      <td>-57.938219</td>\n",
              "      <td>Argentina</td>\n",
              "      <td>Bs.As. G.B.A. Zona Sur</td>\n",
              "      <td>La Plata</td>\n",
              "      <td>2.0</td>\n",
              "      <td>1.0</td>\n",
              "      <td>1.0</td>\n",
              "      <td>50.0</td>\n",
              "      <td>35.0</td>\n",
              "      <td>40000.0</td>\n",
              "      <td>USD</td>\n",
              "      <td>58 entre 1 y 2  Venta de departamento en ph.1 ...</td>\n",
              "      <td>58 entre 1 y 2  Venta de departamento en PH. P...</td>\n",
              "      <td>PH</td>\n",
              "      <td>Venta</td>\n",
              "    </tr>\n",
              "  </tbody>\n",
              "</table>\n",
              "</div>"
            ],
            "text/plain": [
              "   start_date    end_date  ... property_type  operation_type\n",
              "0  2019-10-17  2019-12-23  ...  Departamento           Venta\n",
              "1  2019-10-17  2019-11-21  ...            PH           Venta\n",
              "2  2019-10-17  2019-11-01  ...            PH           Venta\n",
              "3  2019-10-17  2019-12-23  ...            PH           Venta\n",
              "4  2019-10-17  2020-03-11  ...            PH           Venta\n",
              "\n",
              "[5 rows x 19 columns]"
            ]
          },
          "metadata": {
            "tags": []
          },
          "execution_count": 2
        }
      ]
    },
    {
      "cell_type": "markdown",
      "metadata": {
        "id": "jgtCQwt0moV5"
      },
      "source": [
        "Primero lo primero, revisar que registros contiene el dataset. Las primeras tres columnas corresponden a fechas correspondientes a las fechas en que se puso en venta el inmueble y cuando se vendió el mismo. A continuación se tienen las columnas de longitud y latitud, seguidas de país, ciudad y barrio.\n",
        "Seguido contiene los datos de cada propiedad, número de ambientes, cuartos, baños, superficie total y superficie cubierta, precio del inmueble, moneda, dos columnas dedicadas a anuncios publicitando el inmueble, tipo de propiedad al que corresponde el inmueble y, finalmente, tipo de transacción que se realizó."
      ]
    },
    {
      "cell_type": "code",
      "metadata": {
        "colab": {
          "base_uri": "https://localhost:8080/"
        },
        "id": "1rt7VF2S0df8",
        "outputId": "2688051d-34e9-44c9-d02b-f4427bced94f"
      },
      "source": [
        "print('Operaciones: ',data['operation_type'].nunique())\n",
        "print('Ciudades: ',data['l1'].nunique())"
      ],
      "execution_count": 15,
      "outputs": [
        {
          "output_type": "stream",
          "text": [
            "Operaciones:  1\n",
            "Ciudades:  1\n"
          ],
          "name": "stdout"
        }
      ]
    },
    {
      "cell_type": "markdown",
      "metadata": {
        "id": "d50dktKC0hp6"
      },
      "source": [
        "Como tipo de transacción se comprueba que todos los inmuebles del dataset fueron puestos a la venta, además, todos los inmuebles son de Argentina."
      ]
    },
    {
      "cell_type": "code",
      "metadata": {
        "colab": {
          "base_uri": "https://localhost:8080/"
        },
        "id": "113enWc90zxc",
        "outputId": "77989dfd-feb5-48e8-bec9-35a9229d97d0"
      },
      "source": [
        "print('Fecha minima de start_date: ',data['start_date'].min())\n",
        "print('Fecha máxima de start_date: ',data['start_date'].max())\n",
        "print('Fecha minima de end_date: ',data['end_date'].min())\n",
        "print('Fecha máxima de end_date: ',data['end_date'].max())"
      ],
      "execution_count": 10,
      "outputs": [
        {
          "output_type": "stream",
          "text": [
            "Fecha minima de start_date:  2019-01-01\n",
            "Fecha máxima de start_date:  2020-01-25\n",
            "Fecha minima de end_date:  2019-01-04\n",
            "Fecha máxima de end_date:  9999-12-31\n"
          ],
          "name": "stdout"
        }
      ]
    },
    {
      "cell_type": "markdown",
      "metadata": {
        "id": "JWeOp_U40zQU"
      },
      "source": [
        "Se aprecia que los datos de start_date estan en el rango del año 2019 a enero de 2020 y en cuanto a end_date están desde el año 2019 al 9999, lo que puede suponer que el inmueble no ha sido vendido aun. \n",
        "\n",
        "Pero no hay problema. Para este ejercicio, voy a asumir todos los datos como ventas realizadas (después de todo, salvo caidas en el mercado, es poco probable que el precio vaya a variar mucho respecto al que tiene inicialmente)."
      ]
    },
    {
      "cell_type": "code",
      "metadata": {
        "colab": {
          "base_uri": "https://localhost:8080/",
          "height": 277
        },
        "id": "jQpS2P3A796O",
        "outputId": "b7bfbbab-4a49-4b8c-cff9-79693b465152"
      },
      "source": [
        "data.describe()"
      ],
      "execution_count": 11,
      "outputs": [
        {
          "output_type": "execute_result",
          "data": {
            "text/html": [
              "<div>\n",
              "<style scoped>\n",
              "    .dataframe tbody tr th:only-of-type {\n",
              "        vertical-align: middle;\n",
              "    }\n",
              "\n",
              "    .dataframe tbody tr th {\n",
              "        vertical-align: top;\n",
              "    }\n",
              "\n",
              "    .dataframe thead th {\n",
              "        text-align: right;\n",
              "    }\n",
              "</style>\n",
              "<table border=\"1\" class=\"dataframe\">\n",
              "  <thead>\n",
              "    <tr style=\"text-align: right;\">\n",
              "      <th></th>\n",
              "      <th>lat</th>\n",
              "      <th>lon</th>\n",
              "      <th>rooms</th>\n",
              "      <th>bedrooms</th>\n",
              "      <th>bathrooms</th>\n",
              "      <th>surface_total</th>\n",
              "      <th>surface_covered</th>\n",
              "      <th>price</th>\n",
              "    </tr>\n",
              "  </thead>\n",
              "  <tbody>\n",
              "    <tr>\n",
              "      <th>count</th>\n",
              "      <td>136735.000000</td>\n",
              "      <td>136701.000000</td>\n",
              "      <td>146660.000000</td>\n",
              "      <td>146660.000000</td>\n",
              "      <td>140703.000000</td>\n",
              "      <td>126133.000000</td>\n",
              "      <td>125046.000000</td>\n",
              "      <td>1.466600e+05</td>\n",
              "    </tr>\n",
              "    <tr>\n",
              "      <th>mean</th>\n",
              "      <td>-34.604896</td>\n",
              "      <td>-58.465304</td>\n",
              "      <td>3.079817</td>\n",
              "      <td>1.983240</td>\n",
              "      <td>1.599994</td>\n",
              "      <td>216.872888</td>\n",
              "      <td>112.818011</td>\n",
              "      <td>2.412211e+05</td>\n",
              "    </tr>\n",
              "    <tr>\n",
              "      <th>std</th>\n",
              "      <td>0.468428</td>\n",
              "      <td>0.486190</td>\n",
              "      <td>1.416352</td>\n",
              "      <td>1.151304</td>\n",
              "      <td>0.889324</td>\n",
              "      <td>2037.606649</td>\n",
              "      <td>916.857584</td>\n",
              "      <td>3.185195e+05</td>\n",
              "    </tr>\n",
              "    <tr>\n",
              "      <th>min</th>\n",
              "      <td>-35.318457</td>\n",
              "      <td>-180.000000</td>\n",
              "      <td>1.000000</td>\n",
              "      <td>0.000000</td>\n",
              "      <td>1.000000</td>\n",
              "      <td>10.000000</td>\n",
              "      <td>1.000000</td>\n",
              "      <td>5.500000e+03</td>\n",
              "    </tr>\n",
              "    <tr>\n",
              "      <th>25%</th>\n",
              "      <td>-34.627667</td>\n",
              "      <td>-58.504012</td>\n",
              "      <td>2.000000</td>\n",
              "      <td>1.000000</td>\n",
              "      <td>1.000000</td>\n",
              "      <td>52.000000</td>\n",
              "      <td>47.000000</td>\n",
              "      <td>1.110000e+05</td>\n",
              "    </tr>\n",
              "    <tr>\n",
              "      <th>50%</th>\n",
              "      <td>-34.600943</td>\n",
              "      <td>-58.443262</td>\n",
              "      <td>3.000000</td>\n",
              "      <td>2.000000</td>\n",
              "      <td>1.000000</td>\n",
              "      <td>78.000000</td>\n",
              "      <td>68.000000</td>\n",
              "      <td>1.660000e+05</td>\n",
              "    </tr>\n",
              "    <tr>\n",
              "      <th>75%</th>\n",
              "      <td>-34.574600</td>\n",
              "      <td>-58.407586</td>\n",
              "      <td>4.000000</td>\n",
              "      <td>3.000000</td>\n",
              "      <td>2.000000</td>\n",
              "      <td>140.000000</td>\n",
              "      <td>108.000000</td>\n",
              "      <td>2.650000e+05</td>\n",
              "    </tr>\n",
              "    <tr>\n",
              "      <th>max</th>\n",
              "      <td>85.051129</td>\n",
              "      <td>-57.805832</td>\n",
              "      <td>35.000000</td>\n",
              "      <td>15.000000</td>\n",
              "      <td>14.000000</td>\n",
              "      <td>193549.000000</td>\n",
              "      <td>126062.000000</td>\n",
              "      <td>3.243423e+07</td>\n",
              "    </tr>\n",
              "  </tbody>\n",
              "</table>\n",
              "</div>"
            ],
            "text/plain": [
              "                 lat            lon  ...  surface_covered         price\n",
              "count  136735.000000  136701.000000  ...    125046.000000  1.466600e+05\n",
              "mean      -34.604896     -58.465304  ...       112.818011  2.412211e+05\n",
              "std         0.468428       0.486190  ...       916.857584  3.185195e+05\n",
              "min       -35.318457    -180.000000  ...         1.000000  5.500000e+03\n",
              "25%       -34.627667     -58.504012  ...        47.000000  1.110000e+05\n",
              "50%       -34.600943     -58.443262  ...        68.000000  1.660000e+05\n",
              "75%       -34.574600     -58.407586  ...       108.000000  2.650000e+05\n",
              "max        85.051129     -57.805832  ...    126062.000000  3.243423e+07\n",
              "\n",
              "[8 rows x 8 columns]"
            ]
          },
          "metadata": {
            "tags": []
          },
          "execution_count": 11
        }
      ]
    },
    {
      "cell_type": "markdown",
      "metadata": {
        "id": "-KD2PXLY8Ljl"
      },
      "source": [
        "Analicemos ahora las columnas de valores númericos (respecto lat y lon no hay mucho que decir). Los valores máximos de rooms, bedrooms y bathrooms son bastante alto, puede que sean valores correspondientes a propiedades tipo mansion o alguna casa de eventos, pero al fin y al cabo son datos atipicos que podrían perjudiciar el desempeño del modelo (outliers). Por otro lado, los valores minimos pueden ser más razonables si se tienen en cuenta propiedades como locales comerciales o aparta estudios, aunque igual se pueden seguir considerando outliers respecto a los demás valores del dataset."
      ]
    },
    {
      "cell_type": "markdown",
      "metadata": {
        "id": "gDV0FQC89gYn"
      },
      "source": [
        "Observemos a continuación la distribución de los datos acorde al tipo de propiedad:"
      ]
    },
    {
      "cell_type": "code",
      "metadata": {
        "colab": {
          "base_uri": "https://localhost:8080/",
          "height": 803
        },
        "id": "yQZpUt-s9egA",
        "outputId": "e6be615b-8c82-45dd-fc9f-8622207fda73"
      },
      "source": [
        "print( 'Resumen de tipo de propiedades:','\\n', data['property_type'].value_counts()) #Cantidad de cada tipo de propiedad\n",
        "print('\\n')\n",
        "plt.figure(figsize=(15,8))\n",
        "chart=sns.countplot(x = \"property_type\", data = data);#Grafico de tipo de propiedad\n",
        "plt.yscale('log')\n",
        "chart.set_xticklabels(\n",
        "    chart.get_xticklabels(), \n",
        "    rotation=45, \n",
        "    horizontalalignment='right',\n",
        "    fontweight='light',\n",
        "    fontsize='x-large')\n",
        "sns.set_style()"
      ],
      "execution_count": 13,
      "outputs": [
        {
          "output_type": "stream",
          "text": [
            "Resumen de tipo de propiedades: \n",
            " Departamento       107326\n",
            "Casa                21521\n",
            "PH                  14298\n",
            "Lote                 1312\n",
            "Oficina               658\n",
            "Otro                  374\n",
            "Local comercial       325\n",
            "Casa de campo         322\n",
            "Depósito              265\n",
            "Cochera               259\n",
            "Name: property_type, dtype: int64\n",
            "\n",
            "\n"
          ],
          "name": "stdout"
        },
        {
          "output_type": "display_data",
          "data": {
            "image/png": "[encoded data removed]",
            "text/plain": [
              "<Figure size 1080x576 with 1 Axes>"
            ]
          },
          "metadata": {
            "tags": [],
            "needs_background": "light"
          }
        }
      ]
    },
    {
      "cell_type": "markdown",
      "metadata": {
        "id": "cNaVxUE692QY"
      },
      "source": [
        "Este es un primer vistazo muy interesante pues nos muestra que la mayor parte de los datos se concentran en tres tipos de propiedad: Departamento, casa y PH (propiedad horizontal). Ahora bien, veamos que sucede respecto a las ciudades y barrios."
      ]
    },
    {
      "cell_type": "code",
      "metadata": {
        "colab": {
          "base_uri": "https://localhost:8080/",
          "height": 648
        },
        "id": "dhaH9zfA-mGL",
        "outputId": "43bd3c59-98d1-429f-8b1f-b57828b721a1"
      },
      "source": [
        "plt.figure(figsize=(15,8))\n",
        "\n",
        "plt.subplot(2,1,1);\n",
        "plt.title('Región l2')\n",
        "plt.grid();\n",
        "sns.countplot(x = 'l2', data = data);\n",
        "\n",
        "\n",
        "plt.subplot(2,1,2); \n",
        "plt.title('Región l3');\n",
        "plt.grid();\n",
        "chart2=sns.countplot(x ='l3', data = data);\n",
        "chart2.set_xticklabels(\n",
        "    chart2.get_xticklabels(), \n",
        "    rotation=90, \n",
        "    horizontalalignment='right',\n",
        "    fontweight='light',\n",
        "    fontsize='x-large')\n",
        "sns.set_style()"
      ],
      "execution_count": 16,
      "outputs": [
        {
          "output_type": "display_data",
          "data": {
            "image/png": "[encoded data removed]",
            "text/plain": [
              "<Figure size 1080x576 with 2 Axes>"
            ]
          },
          "metadata": {
            "tags": [],
            "needs_background": "light"
          }
        }
      ]
    },
    {
      "cell_type": "markdown",
      "metadata": {
        "id": "-cyuYfNe-vlH"
      },
      "source": [
        "En el caso de los datos de las columnas l2 y l3, la mayor parte de datos se concentran en Capital Federal."
      ]
    },
    {
      "cell_type": "code",
      "metadata": {
        "colab": {
          "base_uri": "https://localhost:8080/"
        },
        "id": "dGCJrGfS_u5M",
        "outputId": "3ea877db-50b4-4748-9a0d-dd5a7f129d5a"
      },
      "source": [
        "data.isna().sum()"
      ],
      "execution_count": 18,
      "outputs": [
        {
          "output_type": "execute_result",
          "data": {
            "text/plain": [
              "start_date             0\n",
              "end_date               0\n",
              "created_on             0\n",
              "lat                 9925\n",
              "lon                 9959\n",
              "l1                     0\n",
              "l2                     0\n",
              "l3                     0\n",
              "rooms                  0\n",
              "bedrooms               0\n",
              "bathrooms           5957\n",
              "surface_total      20527\n",
              "surface_covered    21614\n",
              "price                  0\n",
              "currency               0\n",
              "title                  0\n",
              "description            0\n",
              "property_type          0\n",
              "operation_type         0\n",
              "dtype: int64"
            ]
          },
          "metadata": {
            "tags": []
          },
          "execution_count": 18
        }
      ]
    },
    {
      "cell_type": "markdown",
      "metadata": {
        "id": "Gie53pQT_yjA"
      },
      "source": [
        "Para finalizar esta exploración de datos, vemos que los datos faltantes corresponden a la ubicación del inmueble (latitud y longitud), a los baños, superficie total y superficie cubierta."
      ]
    },
    {
      "cell_type": "markdown",
      "metadata": {
        "id": "8jnKlFgQ--dB"
      },
      "source": [
        "##Procesamiento de los datos"
      ]
    },
    {
      "cell_type": "markdown",
      "metadata": {
        "id": "yeibPaSO_Cl6"
      },
      "source": [
        "Luego de esta breve exploración de datos, podemos empezar a transformar nuestros datos y definir que datos sirven y cuales no. Primero que nada, vamos a quedarnos solamente con las propiedades tipo departamento, casa y PH de Capital Federal."
      ]
    },
    {
      "cell_type": "code",
      "metadata": {
        "colab": {
          "base_uri": "https://localhost:8080/"
        },
        "id": "g_BpSPA6_TWM",
        "outputId": "44596448-a8e5-4001-9d42-7cf4db1447ea"
      },
      "source": [
        "data2=pd.DataFrame(data[data['l2']=='Capital Federal'])\n",
        "seleccion1=data2[data2['property_type']=='Departamento'] #Clase departamento\n",
        "seleccion2=data2[data2['property_type']=='Casa'] #Clase casa\n",
        "seleccion3=data2[data2['property_type']=='PH'] #Clase PH\n",
        "\n",
        "w=seleccion2.append(seleccion3)\n",
        "\n",
        "Capital= w.append(seleccion1)\n",
        "Capital.shape"
      ],
      "execution_count": 17,
      "outputs": [
        {
          "output_type": "execute_result",
          "data": {
            "text/plain": [
              "(91485, 19)"
            ]
          },
          "metadata": {
            "tags": []
          },
          "execution_count": 17
        }
      ]
    },
    {
      "cell_type": "markdown",
      "metadata": {
        "id": "-qSHRHU__nHx"
      },
      "source": [
        "Ahora damos pie a nuestra primera transformación de datos que va a consistir en completar los valores faltantes de latitud y longitud, para ello lo que haremos es agrupar nuestros datos por barrios e imputar en los valores faltantes el promedio de latitud y longitud de cada barrio."
      ]
    },
    {
      "cell_type": "code",
      "metadata": {
        "id": "-05m0PC3_l3f"
      },
      "source": [
        "gr=Capital.groupby([\"l3\"])\n",
        "t=gr[['l3','lat','lon']].mean()\n",
        "Capital[\"lat\"].fillna(gr.lat.transform(\"mean\"),inplace=True)\n",
        "Capital[\"lon\"].fillna(gr.lon.transform(\"mean\"),inplace=True)"
      ],
      "execution_count": 19,
      "outputs": []
    },
    {
      "cell_type": "markdown",
      "metadata": {
        "id": "Lts2rwsNAqSn"
      },
      "source": [
        "A partir de longitud y latitud creamos tres variables (x,y,z) que serviran como coordenadas. Se hace esto con el fin de prevenir una perdida de información en las variables cuando se normalicen los datos más adelante."
      ]
    },
    {
      "cell_type": "code",
      "metadata": {
        "id": "VcYrQDgGAmT3"
      },
      "source": [
        "lat=Capital['lat']\n",
        "lon=Capital['lon']\n",
        "Capital['cord_x'] = np.cos(lat) * np.cos(lon)\n",
        "Capital['cord_y'] = np.cos(lat) * np.sin(lon)\n",
        "Capital['cord_z'] = np.sin(lat)"
      ],
      "execution_count": 20,
      "outputs": []
    },
    {
      "cell_type": "markdown",
      "metadata": {
        "id": "ddOSi-EXBMk9"
      },
      "source": [
        "Revisemos la correlación de los datos:"
      ]
    },
    {
      "cell_type": "code",
      "metadata": {
        "colab": {
          "base_uri": "https://localhost:8080/",
          "height": 363
        },
        "id": "pYmuz_21A70x",
        "outputId": "f359557a-78a7-4538-98a5-a047d5e54d7a"
      },
      "source": [
        "Capital.corr(method='spearman')"
      ],
      "execution_count": 21,
      "outputs": [
        {
          "output_type": "execute_result",
          "data": {
            "text/html": [
              "<div>\n",
              "<style scoped>\n",
              "    .dataframe tbody tr th:only-of-type {\n",
              "        vertical-align: middle;\n",
              "    }\n",
              "\n",
              "    .dataframe tbody tr th {\n",
              "        vertical-align: top;\n",
              "    }\n",
              "\n",
              "    .dataframe thead th {\n",
              "        text-align: right;\n",
              "    }\n",
              "</style>\n",
              "<table border=\"1\" class=\"dataframe\">\n",
              "  <thead>\n",
              "    <tr style=\"text-align: right;\">\n",
              "      <th></th>\n",
              "      <th>lat</th>\n",
              "      <th>lon</th>\n",
              "      <th>rooms</th>\n",
              "      <th>bedrooms</th>\n",
              "      <th>bathrooms</th>\n",
              "      <th>surface_total</th>\n",
              "      <th>surface_covered</th>\n",
              "      <th>price</th>\n",
              "      <th>cord_x</th>\n",
              "      <th>cord_y</th>\n",
              "      <th>cord_z</th>\n",
              "    </tr>\n",
              "  </thead>\n",
              "  <tbody>\n",
              "    <tr>\n",
              "      <th>lat</th>\n",
              "      <td>1.000000</td>\n",
              "      <td>-0.121616</td>\n",
              "      <td>0.022258</td>\n",
              "      <td>0.013928</td>\n",
              "      <td>0.109923</td>\n",
              "      <td>0.042984</td>\n",
              "      <td>0.039830</td>\n",
              "      <td>0.304625</td>\n",
              "      <td>0.128557</td>\n",
              "      <td>-0.059792</td>\n",
              "      <td>-1.000000</td>\n",
              "    </tr>\n",
              "    <tr>\n",
              "      <th>lon</th>\n",
              "      <td>-0.121616</td>\n",
              "      <td>1.000000</td>\n",
              "      <td>0.052282</td>\n",
              "      <td>0.046345</td>\n",
              "      <td>0.062760</td>\n",
              "      <td>0.049300</td>\n",
              "      <td>0.098100</td>\n",
              "      <td>0.090494</td>\n",
              "      <td>-0.999957</td>\n",
              "      <td>0.997033</td>\n",
              "      <td>0.121616</td>\n",
              "    </tr>\n",
              "    <tr>\n",
              "      <th>rooms</th>\n",
              "      <td>0.022258</td>\n",
              "      <td>0.052282</td>\n",
              "      <td>1.000000</td>\n",
              "      <td>0.966571</td>\n",
              "      <td>0.626570</td>\n",
              "      <td>0.838638</td>\n",
              "      <td>0.867520</td>\n",
              "      <td>0.708806</td>\n",
              "      <td>-0.052317</td>\n",
              "      <td>0.053359</td>\n",
              "      <td>-0.022258</td>\n",
              "    </tr>\n",
              "    <tr>\n",
              "      <th>bedrooms</th>\n",
              "      <td>0.013928</td>\n",
              "      <td>0.046345</td>\n",
              "      <td>0.966571</td>\n",
              "      <td>1.000000</td>\n",
              "      <td>0.621037</td>\n",
              "      <td>0.818636</td>\n",
              "      <td>0.848947</td>\n",
              "      <td>0.689359</td>\n",
              "      <td>-0.046444</td>\n",
              "      <td>0.046897</td>\n",
              "      <td>-0.013928</td>\n",
              "    </tr>\n",
              "    <tr>\n",
              "      <th>bathrooms</th>\n",
              "      <td>0.109923</td>\n",
              "      <td>0.062760</td>\n",
              "      <td>0.626570</td>\n",
              "      <td>0.621037</td>\n",
              "      <td>1.000000</td>\n",
              "      <td>0.685693</td>\n",
              "      <td>0.700590</td>\n",
              "      <td>0.700204</td>\n",
              "      <td>-0.061971</td>\n",
              "      <td>0.071276</td>\n",
              "      <td>-0.109923</td>\n",
              "    </tr>\n",
              "    <tr>\n",
              "      <th>surface_total</th>\n",
              "      <td>0.042984</td>\n",
              "      <td>0.049300</td>\n",
              "      <td>0.838638</td>\n",
              "      <td>0.818636</td>\n",
              "      <td>0.685693</td>\n",
              "      <td>1.000000</td>\n",
              "      <td>0.957517</td>\n",
              "      <td>0.835156</td>\n",
              "      <td>-0.049137</td>\n",
              "      <td>0.052301</td>\n",
              "      <td>-0.042984</td>\n",
              "    </tr>\n",
              "    <tr>\n",
              "      <th>surface_covered</th>\n",
              "      <td>0.039830</td>\n",
              "      <td>0.098100</td>\n",
              "      <td>0.867520</td>\n",
              "      <td>0.848947</td>\n",
              "      <td>0.700590</td>\n",
              "      <td>0.957517</td>\n",
              "      <td>1.000000</td>\n",
              "      <td>0.836027</td>\n",
              "      <td>-0.097884</td>\n",
              "      <td>0.101574</td>\n",
              "      <td>-0.039830</td>\n",
              "    </tr>\n",
              "    <tr>\n",
              "      <th>price</th>\n",
              "      <td>0.304625</td>\n",
              "      <td>0.090494</td>\n",
              "      <td>0.708806</td>\n",
              "      <td>0.689359</td>\n",
              "      <td>0.700204</td>\n",
              "      <td>0.835156</td>\n",
              "      <td>0.836027</td>\n",
              "      <td>1.000000</td>\n",
              "      <td>-0.088224</td>\n",
              "      <td>0.112474</td>\n",
              "      <td>-0.304625</td>\n",
              "    </tr>\n",
              "    <tr>\n",
              "      <th>cord_x</th>\n",
              "      <td>0.128557</td>\n",
              "      <td>-0.999957</td>\n",
              "      <td>-0.052317</td>\n",
              "      <td>-0.046444</td>\n",
              "      <td>-0.061971</td>\n",
              "      <td>-0.049137</td>\n",
              "      <td>-0.097884</td>\n",
              "      <td>-0.088224</td>\n",
              "      <td>1.000000</td>\n",
              "      <td>-0.996368</td>\n",
              "      <td>-0.128557</td>\n",
              "    </tr>\n",
              "    <tr>\n",
              "      <th>cord_y</th>\n",
              "      <td>-0.059792</td>\n",
              "      <td>0.997033</td>\n",
              "      <td>0.053359</td>\n",
              "      <td>0.046897</td>\n",
              "      <td>0.071276</td>\n",
              "      <td>0.052301</td>\n",
              "      <td>0.101574</td>\n",
              "      <td>0.112474</td>\n",
              "      <td>-0.996368</td>\n",
              "      <td>1.000000</td>\n",
              "      <td>0.059792</td>\n",
              "    </tr>\n",
              "    <tr>\n",
              "      <th>cord_z</th>\n",
              "      <td>-1.000000</td>\n",
              "      <td>0.121616</td>\n",
              "      <td>-0.022258</td>\n",
              "      <td>-0.013928</td>\n",
              "      <td>-0.109923</td>\n",
              "      <td>-0.042984</td>\n",
              "      <td>-0.039830</td>\n",
              "      <td>-0.304625</td>\n",
              "      <td>-0.128557</td>\n",
              "      <td>0.059792</td>\n",
              "      <td>1.000000</td>\n",
              "    </tr>\n",
              "  </tbody>\n",
              "</table>\n",
              "</div>"
            ],
            "text/plain": [
              "                      lat       lon     rooms  ...    cord_x    cord_y    cord_z\n",
              "lat              1.000000 -0.121616  0.022258  ...  0.128557 -0.059792 -1.000000\n",
              "lon             -0.121616  1.000000  0.052282  ... -0.999957  0.997033  0.121616\n",
              "rooms            0.022258  0.052282  1.000000  ... -0.052317  0.053359 -0.022258\n",
              "bedrooms         0.013928  0.046345  0.966571  ... -0.046444  0.046897 -0.013928\n",
              "bathrooms        0.109923  0.062760  0.626570  ... -0.061971  0.071276 -0.109923\n",
              "surface_total    0.042984  0.049300  0.838638  ... -0.049137  0.052301 -0.042984\n",
              "surface_covered  0.039830  0.098100  0.867520  ... -0.097884  0.101574 -0.039830\n",
              "price            0.304625  0.090494  0.708806  ... -0.088224  0.112474 -0.304625\n",
              "cord_x           0.128557 -0.999957 -0.052317  ...  1.000000 -0.996368 -0.128557\n",
              "cord_y          -0.059792  0.997033  0.053359  ... -0.996368  1.000000  0.059792\n",
              "cord_z          -1.000000  0.121616 -0.022258  ... -0.128557  0.059792  1.000000\n",
              "\n",
              "[11 rows x 11 columns]"
            ]
          },
          "metadata": {
            "tags": []
          },
          "execution_count": 21
        }
      ]
    },
    {
      "cell_type": "markdown",
      "metadata": {
        "id": "a0UmgfgUA_Vx"
      },
      "source": [
        "Haciendo uso de la regla de las tres sigmas, eliminamos outliers. En este caso eliminaremos solo los datos que esten 1.5 sigmas por encima del promedio. Para eliminar los datos atipicos se crea un ciclo de for en el que se elimina todo lo mayor a 1.5 sigmas de cada uno de los siguientes valores ordenados según su correlación al precio, eliminando primero los menos correlacionados."
      ]
    },
    {
      "cell_type": "code",
      "metadata": {
        "colab": {
          "base_uri": "https://localhost:8080/"
        },
        "id": "TPdz2XvAA-hi",
        "outputId": "823e049c-616f-47ad-dcc6-cf62964d51db"
      },
      "source": [
        "k=[ 'bathrooms','rooms','surface_total','surface_covered','price'] #Solo accionar una vez.,'rooms'\n",
        "\n",
        "for k in k:\n",
        "  maximo= Capital[k].median() +1.5*Capital[k].std()\n",
        "  Capital= Capital.drop(Capital[Capital[k]>maximo].index)\n",
        "  \n",
        "print(Capital.shape)"
      ],
      "execution_count": 22,
      "outputs": [
        {
          "output_type": "stream",
          "text": [
            "(70298, 22)\n"
          ],
          "name": "stdout"
        }
      ]
    },
    {
      "cell_type": "markdown",
      "metadata": {
        "id": "ZDTMUjkdCUJK"
      },
      "source": [
        "Ahora armamos un dataframe con los datos que van a alimentar el modelo:"
      ]
    },
    {
      "cell_type": "code",
      "metadata": {
        "id": "o6rzvFF3CbCS"
      },
      "source": [
        "Capital=pd.DataFrame(Capital,\n",
        "                     columns=['price','l3',\n",
        "                              'property_type',\n",
        "                              'bathrooms','rooms',\n",
        "                              'surface_covered','surface_total',\n",
        "                              'cord_x','cord_y','cord_z'])"
      ],
      "execution_count": 23,
      "outputs": []
    },
    {
      "cell_type": "markdown",
      "metadata": {
        "id": "NxvPXzlxCk_F"
      },
      "source": [
        "Definido esto y para que el modelo \"entienda\" los datos no numericos, transformamos las columnas de barrio (l3) y tipo de propiedad a valores booleanos (0 y 1)."
      ]
    },
    {
      "cell_type": "code",
      "metadata": {
        "id": "ezJMouXPC2K4"
      },
      "source": [
        "Capital = pd.get_dummies(Capital,columns=['l3','property_type'],drop_first=True)"
      ],
      "execution_count": 24,
      "outputs": []
    },
    {
      "cell_type": "markdown",
      "metadata": {
        "id": "VFURwnIwC86c"
      },
      "source": [
        "Ahora definimos nuestras variables dependiente e independiente:"
      ]
    },
    {
      "cell_type": "code",
      "metadata": {
        "id": "sfMCrywFDB8J"
      },
      "source": [
        "X= Capital.iloc[:,1:].values\n",
        "y= Capital.iloc[:,0].values"
      ],
      "execution_count": 25,
      "outputs": []
    },
    {
      "cell_type": "markdown",
      "metadata": {
        "id": "BAL2wLrXDIAp"
      },
      "source": [
        "Con el fin de volver el modelo lo más eficiente posible, normalizamos la variable X, es decir, transformamos todos los datos para que queden en valores entre 0 y 1 sin perder escala entre ellos."
      ]
    },
    {
      "cell_type": "code",
      "metadata": {
        "id": "pYwSgWYYDETJ"
      },
      "source": [
        "from sklearn.preprocessing import StandardScaler #Normalización de los datos\n",
        "sc = StandardScaler()\n",
        "X = sc.fit_transform(X)"
      ],
      "execution_count": 26,
      "outputs": []
    },
    {
      "cell_type": "markdown",
      "metadata": {
        "id": "uWCavJWwDyqU"
      },
      "source": [
        "En el siguiente paso imputaremos los demás valores faltantes haciendo uso del KNNImputer, lo que hará esta linea de codigo es asignar al dato faltante el valor que tenga en ese dato para la propiedad que sea más parecida."
      ]
    },
    {
      "cell_type": "code",
      "metadata": {
        "id": "Eeks5ipsDvx2"
      },
      "source": [
        "from sklearn.impute import KNNImputer #Imputación de valores faltantes\n",
        "imputer = KNNImputer(n_neighbors=3)\n",
        "X= imputer.fit_transform(X)"
      ],
      "execution_count": 27,
      "outputs": []
    },
    {
      "cell_type": "markdown",
      "metadata": {
        "id": "GaChQuksESq6"
      },
      "source": [
        "Listo, tenemos nuestros datos preparados. Podemos proceder a dividirlos en datos para entrenar el modelo y datos para testearlo. En este caso el tamaño de los datos para entrenar el modelo será del 75% del total."
      ]
    },
    {
      "cell_type": "code",
      "metadata": {
        "id": "-OAdD8nTEP2y"
      },
      "source": [
        "from sklearn.model_selection import train_test_split\n",
        "\n",
        "X_train, X_test, y_train, y_test = train_test_split(\n",
        "    X, y, test_size=0.25, random_state=0, )"
      ],
      "execution_count": 28,
      "outputs": []
    },
    {
      "cell_type": "markdown",
      "metadata": {
        "id": "Se_Ox3SRFjku"
      },
      "source": [
        "##Modelo random forest regressor"
      ]
    },
    {
      "cell_type": "markdown",
      "metadata": {
        "id": "79Uyi7DTE2lI"
      },
      "source": [
        "El modelo seleccionado para este ejercicio de predicción será un random forest regressor. Y los parametros seleccionados en el modelo son generados a partir de varias iteraciones (una forma elegante de decir ensayo y error)."
      ]
    },
    {
      "cell_type": "code",
      "metadata": {
        "id": "GwkGwCxyEyn-"
      },
      "source": [
        "from sklearn.metrics import mean_squared_error\n",
        "from sklearn.ensemble import RandomForestRegressor"
      ],
      "execution_count": 29,
      "outputs": []
    },
    {
      "cell_type": "markdown",
      "metadata": {
        "id": "dY7_kWUcGIyg"
      },
      "source": [
        "Tuneamos el modelo y seguido a ello lo entrenamos con nuestros datos."
      ]
    },
    {
      "cell_type": "code",
      "metadata": {
        "colab": {
          "base_uri": "https://localhost:8080/"
        },
        "id": "iZoVsTLnFrD2",
        "outputId": "89020d91-ed96-4314-f2cb-95985473f258"
      },
      "source": [
        "rdf = RandomForestRegressor(n_estimators=350, oob_score = True, max_depth=25,max_samples=0.3)\n",
        "rdf.fit(X_train,y_train)"
      ],
      "execution_count": 30,
      "outputs": [
        {
          "output_type": "execute_result",
          "data": {
            "text/plain": [
              "RandomForestRegressor(bootstrap=True, ccp_alpha=0.0, criterion='mse',\n",
              "                      max_depth=25, max_features='auto', max_leaf_nodes=None,\n",
              "                      max_samples=0.3, min_impurity_decrease=0.0,\n",
              "                      min_impurity_split=None, min_samples_leaf=1,\n",
              "                      min_samples_split=2, min_weight_fraction_leaf=0.0,\n",
              "                      n_estimators=350, n_jobs=None, oob_score=True,\n",
              "                      random_state=None, verbose=0, warm_start=False)"
            ]
          },
          "metadata": {
            "tags": []
          },
          "execution_count": 30
        }
      ]
    },
    {
      "cell_type": "markdown",
      "metadata": {
        "id": "-gqUlUx3GPih"
      },
      "source": [
        "Ahora, grafiquemos el comportamiento del modelo y veamos cúal fue su rmse (root-mean-square error, raíz del error cuadrático medio)."
      ]
    },
    {
      "cell_type": "code",
      "metadata": {
        "colab": {
          "base_uri": "https://localhost:8080/",
          "height": 431
        },
        "id": "XiLse-o6F-GW",
        "outputId": "33460d33-9481-4e84-d49a-9fd13d07d515"
      },
      "source": [
        "y_train_pred = rdf.predict(X_train)\n",
        "y_test_pred = rdf.predict(X_test)\n",
        "\n",
        "print('Modelo de random forest regressor')\n",
        "\n",
        "rmse_train = np.sqrt(mean_squared_error(y_train, y_train_pred))\n",
        "rmse_test = np.sqrt(mean_squared_error(y_test, y_test_pred))\n",
        "print(f'Raíz del error cuadrático medio en Train: {rmse_train}')\n",
        "print(f'Raíz del error cuadrático medio en Test: {rmse_test}')\n",
        "    \n",
        "plt.figure(figsize = (8,4))\n",
        "\n",
        "plt.subplot(1,2,1)\n",
        "sns.distplot(y_train - y_train_pred, bins = 20, label = 'train')\n",
        "sns.distplot(y_test - y_test_pred, bins = 20, label = 'test')\n",
        "plt.xlabel('errores')\n",
        "plt.legend()\n",
        "\n",
        "\n",
        "ax = plt.subplot(1,2,2)\n",
        "ax.scatter(y_test,y_test_pred, s =2)\n",
        "    \n",
        "lims = [\n",
        "  np.min([ax.get_xlim(), ax.get_ylim()]),  # min of both axes\n",
        "  np.max([ax.get_xlim(), ax.get_ylim()]),  # max of both axes]\n",
        "    ]\n",
        "    \n",
        "ax.plot(lims, lims, 'k-', alpha=0.75, zorder=0)\n",
        "plt.xlabel('y (test)')\n",
        "plt.ylabel('y_pred (test)')\n",
        "    \n",
        "plt.tight_layout()\n",
        "plt.show()"
      ],
      "execution_count": 31,
      "outputs": [
        {
          "output_type": "stream",
          "text": [
            "Modelo de random forest regressor\n",
            "Raíz del error cuadrático medio en Train: 18528.40907281975\n",
            "Raíz del error cuadrático medio en Test: 24776.603284264675\n"
          ],
          "name": "stdout"
        },
        {
          "output_type": "stream",
          "text": [
            "/usr/local/lib/python3.6/dist-packages/seaborn/distributions.py:2551: FutureWarning: `distplot` is a deprecated function and will be removed in a future version. Please adapt your code to use either `displot` (a figure-level function with similar flexibility) or `histplot` (an axes-level function for histograms).\n",
            "  warnings.warn(msg, FutureWarning)\n",
            "/usr/local/lib/python3.6/dist-packages/seaborn/distributions.py:2551: FutureWarning: `distplot` is a deprecated function and will be removed in a future version. Please adapt your code to use either `displot` (a figure-level function with similar flexibility) or `histplot` (an axes-level function for histograms).\n",
            "  warnings.warn(msg, FutureWarning)\n"
          ],
          "name": "stderr"
        },
        {
          "output_type": "display_data",
          "data": {
            "image/png": "[encoded data removed]",
            "text/plain": [
              "<Figure size 576x288 with 2 Axes>"
            ]
          },
          "metadata": {
            "tags": [],
            "needs_background": "light"
          }
        }
      ]
    },
    {
      "cell_type": "markdown",
      "metadata": {
        "id": "w6ff72fZGq1N"
      },
      "source": [
        "El rmse nos arroja un valor en las unidades que se busca predecir, este valor es el promedio del error que arrojó el módelo, es decir, en este caso en particular el modelo se equivoca aproximadamente 24700 dollares (por debajo o por encima del precio real) cuando predice el valor de una propiedad.\n",
        "\n"
      ]
    },
    {
      "cell_type": "markdown",
      "metadata": {
        "id": "x8OYwUZFIA2X"
      },
      "source": [
        "En la primera gráfica se compara el desempeño del modelo cuando se le introducen los datos de entrenamiento vs los datos de testeo. Una diferencia entre estos resultados muy grandes habría querido decir que el modelo se sobreajustó o subajustó a los datos. Para este caso la diferencia no es mucha, por lo que nuestro modelo no está muy mal."
      ]
    },
    {
      "cell_type": "markdown",
      "metadata": {
        "id": "ezlFU-MqIC6Z"
      },
      "source": [
        "El gráfico de la derecha nos muestra el error en el modelo, siendo que cada uno de los puntos corresponde a una propiedad y la predicción correcta corresponde a la cercanía de los puntos a la recta de la gráfica. Es decir, los puntos que más se alejan de la gráfica son las predicciones con mayor rmse. En este caso, si bien varias propiedades se alejan de la linea, no se forman nubes de datos densas muy lejos del módelo; con ello se puede afirmar que el error en general no es tan alto y se ve afectado por propiedades que puedan ser consideradas outliers."
      ]
    }
  ]
}